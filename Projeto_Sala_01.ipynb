{
  "cells": [
    {
      "cell_type": "markdown",
      "metadata": {
        "id": "view-in-github",
        "colab_type": "text"
      },
      "source": [
        "<a href=\"https://colab.research.google.com/github/EduardodeOFerreira/teste_target/blob/main/Projeto_Sala_01.ipynb\" target=\"_parent\"><img src=\"https://colab.research.google.com/assets/colab-badge.svg\" alt=\"Open In Colab\"/></a>"
      ]
    },
    {
      "cell_type": "markdown",
      "metadata": {
        "id": "VDaI3Jqsx8Kh"
      },
      "source": [
        "sala 01"
      ]
    },
    {
      "cell_type": "code",
      "execution_count": null,
      "metadata": {
        "colab": {
          "background_save": true,
          "base_uri": "https://localhost:8080/"
        },
        "id": "jMJhZ_zntuPb",
        "outputId": "746326b5-2c87-4c63-e969-4e008d927718"
      },
      "outputs": [
        {
          "name": "stdout",
          "output_type": "stream",
          "text": [
            "** EMPRESA SALA_01 PROJETO PYTHON   **\n",
            "\n",
            "1. Incluir funcionário\n",
            "2. Consultar funcionário\n",
            "3. Listar funcionários\n",
            "4. Deletar funcionário\n",
            "0. Sair\n"
          ]
        }
      ],
      "source": [
        "#Adicionar um novo funcionário ao sistema,\n",
        "#solicitando informações como nome, cargo, salário, e-mail, etc.\n",
        "\n",
        "\n",
        "def incluir_funcionario():\n",
        "    nome = input(\"Digite seu Nome: \")\n",
        "    cargo = input(\"Digite seu Cargo: \")\n",
        "    salario = float(input(\"Digite deu Salário: \"))\n",
        "    cidade = input(\"Digite sua Cidade: \")\n",
        "    estado = input(\"Digite seu Estado: \")\n",
        "    idade = int(input(\"Digite sua Idade: \"))\n",
        "    e_mail = input(\"Digite seu E-mail: \")\n",
        "\n",
        "    funcionario = {\n",
        "        \"nome\": nome,\n",
        "        \"cargo\": cargo,\n",
        "        \"salario\": salario,\n",
        "        \"cidade\": cidade,\n",
        "        \"estado\": estado,\n",
        "        \"idade\": idade,\n",
        "        \"e_mail\": e_mail,\n",
        "    }\n",
        "\n",
        "    funcionarios.append(funcionario) # Faz a inserção de novo funcionario ao final da lista\n",
        "\n",
        "def consultar_funcionario(nome): # Função Consulta um unico funcionário por nome \n",
        "    for funcionario in funcionarios:\n",
        "        if funcionario[\"nome\"] == nome:\n",
        "            return funcionario\n",
        "    return None\n",
        "\n",
        "def listar_funcionarios(): # Função retorna uma lista com todos funconários \n",
        "    for funcionario in funcionarios:\n",
        "        print(funcionario)\n",
        "\n",
        "def deletar_funcionario(nome): # Função percorre a lista encontra o indice do funcionário e deleta, de acordo com nome solicita \n",
        "    for i in range(len(funcionarios)):\n",
        "        if funcionarios[i][\"nome\"] == nome:\n",
        "            del funcionarios[i]\n",
        "            return\n",
        "    return None\n",
        "\n",
        "funcionarios = [] # Cria a lista que receberá os funcionários\n",
        "\n",
        "print('** EMPRESA SALA_01 PROJETO PYTHON   **\\n')\n",
        "\n",
        "while True: # Menu de escolha para chamar as funções \n",
        "    print(\"1. Incluir funcionário\")\n",
        "    print(\"2. Consultar funcionário\")\n",
        "    print(\"3. Listar funcionários\")\n",
        "    print(\"4. Deletar funcionário\")\n",
        "    print(\"0. Sair\")\n",
        "\n",
        "    escolha = int(input(\"Escolha uma opção: \"))\n",
        "\n",
        "    if escolha == 1:\n",
        "        incluir_funcionario()\n",
        "    elif escolha == 2:\n",
        "        nome = input(\"Nome do funcionário: \")\n",
        "        funcionario = consultar_funcionario(nome)\n",
        "        if funcionario is not None:\n",
        "            print(funcionario)\n",
        "        else:\n",
        "            print(\"Funcionário não encontrado.\")\n",
        "    elif escolha == 3:\n",
        "        listar_funcionarios()\n",
        "    elif escolha == 4:\n",
        "        nome = input(\"Nome do funcionário: \")\n",
        "        sucesso = deletar_funcionario(nome)\n",
        "        if sucesso:\n",
        "            print(\"Funcionário removido com sucesso.\")\n",
        "        else:\n",
        "            print(\"Funcionário não encontrado.\")\n",
        "    elif escolha == 0:\n",
        "        break"
      ]
    }
  ],
  "metadata": {
    "colab": {
      "provenance": [],
      "include_colab_link": true
    },
    "kernelspec": {
      "display_name": "Python 3",
      "name": "python3"
    },
    "language_info": {
      "name": "python"
    }
  },
  "nbformat": 4,
  "nbformat_minor": 0
}
